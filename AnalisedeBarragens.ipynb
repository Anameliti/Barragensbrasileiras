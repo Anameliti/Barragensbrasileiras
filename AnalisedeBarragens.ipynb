{
 "cells": [
  {
   "cell_type": "markdown",
   "id": "75831ca9",
   "metadata": {},
   "source": [
    "#### 1. Importando as biblotecas necessárias"
   ]
  },
  {
   "cell_type": "code",
   "execution_count": 119,
   "id": "001be8f6",
   "metadata": {},
   "outputs": [],
   "source": [
    "import pandas as pd\n",
    "import pandasql as ps\n",
    "import numpy as np\n",
    "import seaborn as sb\n",
    "from IPython.core.interactiveshell import InteractiveShell\n",
    "InteractiveShell.ast_node_interactivity = \"all\"\n",
    "import sys\n",
    "import warnings\n",
    "import jupyterthemes\n",
    "import  matplotlib.pyplot as plt"
   ]
  },
  {
   "cell_type": "markdown",
   "id": "b7891904",
   "metadata": {},
   "source": [
    "#### 2. Analisando os dados das barragens "
   ]
  },
  {
   "cell_type": "code",
   "execution_count": 11,
   "id": "4b481a67",
   "metadata": {},
   "outputs": [],
   "source": [
    "#Nomeando o caminho do arquivo em CSV\n",
    "file = r'C:\\Users\\Ana Carolina Meliti\\Downloads\\archive\\database_versao_LatLongDecimal_fonteANM_23_01_2019.csv'"
   ]
  },
  {
   "cell_type": "code",
   "execution_count": 12,
   "id": "b63f3e5a",
   "metadata": {},
   "outputs": [
    {
     "data": {
      "text/html": [
       "<div>\n",
       "<style scoped>\n",
       "    .dataframe tbody tr th:only-of-type {\n",
       "        vertical-align: middle;\n",
       "    }\n",
       "\n",
       "    .dataframe tbody tr th {\n",
       "        vertical-align: top;\n",
       "    }\n",
       "\n",
       "    .dataframe thead th {\n",
       "        text-align: right;\n",
       "    }\n",
       "</style>\n",
       "<table border=\"1\" class=\"dataframe\">\n",
       "  <thead>\n",
       "    <tr style=\"text-align: right;\">\n",
       "      <th></th>\n",
       "      <th>NOME_BARRAGEM_MINERACAO</th>\n",
       "      <th>NOME_DO_EMPREENDEDOR</th>\n",
       "      <th>CPF_CNPJ</th>\n",
       "      <th>POSICIONAMENTO</th>\n",
       "      <th>UF</th>\n",
       "      <th>MUNICIPIO</th>\n",
       "      <th>MINERIO_PRINCIPAL</th>\n",
       "      <th>ALTURA_ATUAL_metros</th>\n",
       "      <th>VOLUME_ATUAL_m3</th>\n",
       "      <th>CATEGORIA_DE_RISCO</th>\n",
       "      <th>DANO_POTENCIAL_ASSOCIADO</th>\n",
       "      <th>CLASSE</th>\n",
       "      <th>INSERIDA_NA_PNSB</th>\n",
       "      <th>LATITUDE</th>\n",
       "      <th>LONGITUDE</th>\n",
       "    </tr>\n",
       "  </thead>\n",
       "  <tbody>\n",
       "    <tr>\n",
       "      <th>0</th>\n",
       "      <td>0-1</td>\n",
       "      <td>Mineração Taboca S.a.</td>\n",
       "      <td>34.019.992/0001-10</td>\n",
       "      <td>Sul do Equador</td>\n",
       "      <td>AM</td>\n",
       "      <td>PRESIDENTE FIGUEIREDO</td>\n",
       "      <td>Minério de Estanho Primário</td>\n",
       "      <td>22.00</td>\n",
       "      <td>27,700,000.00</td>\n",
       "      <td>Baixa</td>\n",
       "      <td>Média</td>\n",
       "      <td>C</td>\n",
       "      <td>Sim</td>\n",
       "      <td>0.733361111111111</td>\n",
       "      <td>-60.1383888888889</td>\n",
       "    </tr>\n",
       "    <tr>\n",
       "      <th>1</th>\n",
       "      <td>103 (Cruz)</td>\n",
       "      <td>Mineração Taboca S.a.</td>\n",
       "      <td>34.019.992/0001-10</td>\n",
       "      <td>Sul do Equador</td>\n",
       "      <td>AM</td>\n",
       "      <td>PRESIDENTE FIGUEIREDO</td>\n",
       "      <td>Minério de Estanho Primário</td>\n",
       "      <td>10.30</td>\n",
       "      <td>924,000.00</td>\n",
       "      <td>Baixa</td>\n",
       "      <td>Média</td>\n",
       "      <td>C</td>\n",
       "      <td>Sim</td>\n",
       "      <td>0.785722222222222</td>\n",
       "      <td>-60.1419166666667</td>\n",
       "    </tr>\n",
       "    <tr>\n",
       "      <th>2</th>\n",
       "      <td>111 (Índio)</td>\n",
       "      <td>Mineração Taboca S.a.</td>\n",
       "      <td>34.019.992/0001-10</td>\n",
       "      <td>Sul do Equador</td>\n",
       "      <td>AM</td>\n",
       "      <td>PRESIDENTE FIGUEIREDO</td>\n",
       "      <td>Minério de Estanho Primário</td>\n",
       "      <td>5.00</td>\n",
       "      <td>48,873.00</td>\n",
       "      <td>Baixa</td>\n",
       "      <td>Média</td>\n",
       "      <td>C</td>\n",
       "      <td>Sim</td>\n",
       "      <td>0.789666666666667</td>\n",
       "      <td>-60.1442777777778</td>\n",
       "    </tr>\n",
       "  </tbody>\n",
       "</table>\n",
       "</div>"
      ],
      "text/plain": [
       "  NOME_BARRAGEM_MINERACAO   NOME_DO_EMPREENDEDOR            CPF_CNPJ  \\\n",
       "0                     0-1  Mineração Taboca S.a.  34.019.992/0001-10   \n",
       "1              103 (Cruz)  Mineração Taboca S.a.  34.019.992/0001-10   \n",
       "2             111 (Índio)  Mineração Taboca S.a.  34.019.992/0001-10   \n",
       "\n",
       "   POSICIONAMENTO  UF              MUNICIPIO            MINERIO_PRINCIPAL  \\\n",
       "0  Sul do Equador  AM  PRESIDENTE FIGUEIREDO  Minério de Estanho Primário   \n",
       "1  Sul do Equador  AM  PRESIDENTE FIGUEIREDO  Minério de Estanho Primário   \n",
       "2  Sul do Equador  AM  PRESIDENTE FIGUEIREDO  Minério de Estanho Primário   \n",
       "\n",
       "  ALTURA_ATUAL_metros VOLUME_ATUAL_m3 CATEGORIA_DE_RISCO  \\\n",
       "0               22.00   27,700,000.00              Baixa   \n",
       "1               10.30      924,000.00              Baixa   \n",
       "2                5.00       48,873.00              Baixa   \n",
       "\n",
       "  DANO_POTENCIAL_ASSOCIADO CLASSE INSERIDA_NA_PNSB           LATITUDE  \\\n",
       "0                    Média      C              Sim  0.733361111111111   \n",
       "1                    Média      C              Sim  0.785722222222222   \n",
       "2                    Média      C              Sim  0.789666666666667   \n",
       "\n",
       "           LONGITUDE  \n",
       "0  -60.1383888888889  \n",
       "1  -60.1419166666667  \n",
       "2  -60.1442777777778  "
      ]
     },
     "execution_count": 12,
     "metadata": {},
     "output_type": "execute_result"
    }
   ],
   "source": [
    "#Puxando o arquivo para leitura e visualização com Pandas, dando outros tipos para algumas colunas por conta da leitura.\n",
    "df = pd.read_csv(file, decimal=\",\", sep=\",\",\n",
    "                       dtype={\"CPF_CNPJ\":\"string\",\n",
    "                             \"LATITUDE\":\"string\",\n",
    "                             \"LONGITUDE\":\"string\",\n",
    "                             \"NOME_DO_EMPREENDEDOR\":\"string\",\n",
    "                             \"ALTURA_ATUAL_metros\":\"string\",\n",
    "                             \"VOLUME_ATUAL_m3\":\"string\"})\n",
    "df.head(3)"
   ]
  },
  {
   "cell_type": "code",
   "execution_count": 13,
   "id": "45458cd4",
   "metadata": {},
   "outputs": [],
   "source": [
    "#Transformando algumas informações em númericas novamente para realizarmos alguns gráficos e trocando alguns pontos.\n",
    "\n",
    "df[\"ALTURA_ATUAL_metros\"] = df[\"ALTURA_ATUAL_metros\"].str.replace(\",\", \"\")\n",
    "df[\"ALTURA_ATUAL_metros\"] = df[\"ALTURA_ATUAL_metros\"].replace(\"-\",np.nan)\n",
    "df[\"ALTURA_ATUAL_metros\"] = pd.to_numeric(df[\"ALTURA_ATUAL_metros\"])\n",
    "\n",
    "\n",
    "df[\"VOLUME_ATUAL_m3\"] = df[\"VOLUME_ATUAL_m3\"].str.replace(\",\", \"\")\n",
    "df[\"VOLUME_ATUAL_m3\"] = df[\"VOLUME_ATUAL_m3\"].replace(\"-\", np.nan)\n",
    "df[\"VOLUME_ATUAL_m3\"] = pd.to_numeric(df[\"VOLUME_ATUAL_m3\"])\n"
   ]
  },
  {
   "cell_type": "code",
   "execution_count": 14,
   "id": "d5d26f4b",
   "metadata": {
    "scrolled": true
   },
   "outputs": [
    {
     "name": "stdout",
     "output_type": "stream",
     "text": [
      "<class 'pandas.core.frame.DataFrame'>\n",
      "RangeIndex: 714 entries, 0 to 713\n",
      "Data columns (total 15 columns):\n",
      " #   Column                    Non-Null Count  Dtype  \n",
      "---  ------                    --------------  -----  \n",
      " 0   NOME_BARRAGEM_MINERACAO   714 non-null    object \n",
      " 1   NOME_DO_EMPREENDEDOR      714 non-null    string \n",
      " 2   CPF_CNPJ                  714 non-null    string \n",
      " 3   POSICIONAMENTO            714 non-null    object \n",
      " 4   UF                        714 non-null    object \n",
      " 5   MUNICIPIO                 714 non-null    object \n",
      " 6   MINERIO_PRINCIPAL         714 non-null    object \n",
      " 7   ALTURA_ATUAL_metros       697 non-null    Float64\n",
      " 8   VOLUME_ATUAL_m3           707 non-null    Float64\n",
      " 9   CATEGORIA_DE_RISCO        390 non-null    object \n",
      " 10  DANO_POTENCIAL_ASSOCIADO  390 non-null    object \n",
      " 11  CLASSE                    390 non-null    object \n",
      " 12  INSERIDA_NA_PNSB          714 non-null    object \n",
      " 13  LATITUDE                  714 non-null    string \n",
      " 14  LONGITUDE                 714 non-null    string \n",
      "dtypes: Float64(2), object(9), string(4)\n",
      "memory usage: 85.2+ KB\n"
     ]
    }
   ],
   "source": [
    "#Verificando as informações do dataset\n",
    "df.info()"
   ]
  },
  {
   "cell_type": "markdown",
   "id": "0fcc5e40",
   "metadata": {},
   "source": [
    "#### 3.Analise de dados(verificando outras maneiras de ver valores \"missing\")"
   ]
  },
  {
   "cell_type": "code",
   "execution_count": 155,
   "id": "b9df0cef",
   "metadata": {},
   "outputs": [
    {
     "data": {
      "text/plain": [
       "Text(0.5, 1.0, 'Análise de Missings: Dataset ANM Barragens')"
      ]
     },
     "execution_count": 155,
     "metadata": {},
     "output_type": "execute_result"
    },
    {
     "data": {
      "text/plain": [
       "Text(0.5, 0, 'Missing em %')"
      ]
     },
     "execution_count": 155,
     "metadata": {},
     "output_type": "execute_result"
    },
    {
     "data": {
      "image/png": "[encoded data removed]",
      "text/plain": [
       "<Figure size 1500x700 with 1 Axes>"
      ]
     },
     "metadata": {},
     "output_type": "display_data"
    }
   ],
   "source": [
    "#Plotando em gráfico a analise de valores missing\n",
    "#ISNA trás a contagem de missing, ele é um booleano, ou seja, tudo que for missing, o isna faz a contagem\n",
    "\n",
    "n_cols = [col for col in df if(df[col].isna().sum() > 0)]\n",
    "ax = (\n",
    "df[n_cols]\n",
    ".isna()\n",
    ".mean() #média/percentual de missing\n",
    ".sort_values(ascending=False) #ordenando do maior para o menor\n",
    ".mul(100) #trazendo para centenas\n",
    ".plot(kind=\"barh\", figsize=(15,7), color='lightblue')\n",
    ")\n",
    "ax.set_title(\"Análise de Missings: Dataset ANM Barragens\")\n",
    "ax.set_xlabel(\"Missing em %\")\n",
    "plt.savefig('Missing.png')"
   ]
  },
  {
   "cell_type": "code",
   "execution_count": 16,
   "id": "87ee691f",
   "metadata": {
    "scrolled": true
   },
   "outputs": [
    {
     "data": {
      "text/html": [
       "<div>\n",
       "<style scoped>\n",
       "    .dataframe tbody tr th:only-of-type {\n",
       "        vertical-align: middle;\n",
       "    }\n",
       "\n",
       "    .dataframe tbody tr th {\n",
       "        vertical-align: top;\n",
       "    }\n",
       "\n",
       "    .dataframe thead th {\n",
       "        text-align: right;\n",
       "    }\n",
       "</style>\n",
       "<table border=\"1\" class=\"dataframe\">\n",
       "  <thead>\n",
       "    <tr style=\"text-align: right;\">\n",
       "      <th></th>\n",
       "      <th>ALTURA_ATUAL_metros</th>\n",
       "      <th>VOLUME_ATUAL_m3</th>\n",
       "    </tr>\n",
       "  </thead>\n",
       "  <tbody>\n",
       "    <tr>\n",
       "      <th>count</th>\n",
       "      <td>307.0</td>\n",
       "      <td>317.0</td>\n",
       "    </tr>\n",
       "    <tr>\n",
       "      <th>mean</th>\n",
       "      <td>6.961922</td>\n",
       "      <td>141710.368675</td>\n",
       "    </tr>\n",
       "    <tr>\n",
       "      <th>std</th>\n",
       "      <td>3.739758</td>\n",
       "      <td>281365.593062</td>\n",
       "    </tr>\n",
       "    <tr>\n",
       "      <th>min</th>\n",
       "      <td>1.0</td>\n",
       "      <td>0.01</td>\n",
       "    </tr>\n",
       "    <tr>\n",
       "      <th>25%</th>\n",
       "      <td>4.0</td>\n",
       "      <td>5250.0</td>\n",
       "    </tr>\n",
       "    <tr>\n",
       "      <th>50%</th>\n",
       "      <td>6.2</td>\n",
       "      <td>20000.0</td>\n",
       "    </tr>\n",
       "    <tr>\n",
       "      <th>75%</th>\n",
       "      <td>10.0</td>\n",
       "      <td>140059.0</td>\n",
       "    </tr>\n",
       "    <tr>\n",
       "      <th>max</th>\n",
       "      <td>14.9</td>\n",
       "      <td>1965306.0</td>\n",
       "    </tr>\n",
       "  </tbody>\n",
       "</table>\n",
       "</div>"
      ],
      "text/plain": [
       "       ALTURA_ATUAL_metros  VOLUME_ATUAL_m3\n",
       "count                307.0            317.0\n",
       "mean              6.961922    141710.368675\n",
       "std               3.739758    281365.593062\n",
       "min                    1.0             0.01\n",
       "25%                    4.0           5250.0\n",
       "50%                    6.2          20000.0\n",
       "75%                   10.0         140059.0\n",
       "max                   14.9        1965306.0"
      ]
     },
     "execution_count": 16,
     "metadata": {},
     "output_type": "execute_result"
    }
   ],
   "source": [
    "#Verificando a coluna de Categoria de Risco onde há uma concetração grande de missing\n",
    "df[df[\"CATEGORIA_DE_RISCO\"].isna()].describe()"
   ]
  },
  {
   "cell_type": "markdown",
   "id": "a5c423b9",
   "metadata": {},
   "source": [
    "Analisando junto com o André Yukio, ele identificou que há alguns critérios na politica do PNSB.\n",
    "Barragens menores que 15 metros não se enquadram na classificação da política nacional de segurança de barragens (PNSB)\n",
    "\n",
    "Os critérios são: \n",
    "Altura >= 15 metros\n",
    "Volume >= 3 milhões m³\n",
    "Resídup = Perigoso\n",
    "Dano Potencial Associado = Médio ou Alto\n",
    "\n",
    "fonte: https://www.planalto.gov.br/ccivil_03/_ato2007-2010/2010/lei/l12334.htm\n",
    "\n",
    "Como a analise guiada foi há 2 anos, procurei para saber se havia mudado alguma questão nos critérios, mas eles permanecem os mesmos. \n",
    "\n",
    "Para complementar nossa analise resolvi procurar quem é que realiza esse tipo de analise de resíduo para determina se é perigoso, e coletei algumas informações como:\n",
    "\n",
    "A avaliação é feita por agências reguladoras, têm a responsabilidade de regular e supervisionar a construção, operação e segurança das barragens. Elas frequentemente colaboram com especialistas para avaliar os riscos associados a danos residuais e impor regulamentos para minimizar esses riscos.\n",
    "\n",
    "Especialistas em Engenharia: Engenheiros especializados em geotecnia, hidrologia, hidráulica e outras áreas relacionadas são fundamentais para avaliar os aspectos técnicos da segurança de barragens e determinar o potencial dano residual em caso de falha.\n",
    "\n",
    "Equipes de Avaliação de Risco: Essas equipes multidisciplinares incluem profissionais de várias áreas, como engenharia, geologia, ecologia e gestão de desastres. Eles colaboram para avaliar a probabilidade de falha da barragem, os impactos potenciais e o dano residual resultante.\n",
    "\n",
    "Comunidades Locais e Ambientalistas: A participação das comunidades locais afetadas e das partes interessadas é importante na avaliação de danos residuais. Suas preocupações e perspectivas devem ser consideradas ao avaliar os riscos e determinar os potenciais impactos.\n",
    "\n",
    "Instituições de Pesquisa e Acadêmicas: Instituições acadêmicas e de pesquisa frequentemente conduzem estudos independentes para avaliar riscos, danos potenciais e estratégias de mitigação.\n",
    "\n",
    "E os critérios levado em consideração para uma boa testagem são:\n",
    "\n",
    "Toxicidade: Avalia-se a capacidade do resíduo de causar danos à saúde humana ou ao meio ambiente. Isso pode envolver testes para determinar a presença e a concentração de substâncias químicas tóxicas.\n",
    "\n",
    "Inflamabilidade: A capacidade do resíduo de entrar em ignição e queimar facilmente é um critério importante. Isso é especialmente relevante para resíduos que podem causar incêndios ou explosões.\n",
    "\n",
    "Reatividade: Alguns resíduos podem ser reativos e causar reações químicas perigosas quando em contato com outros materiais ou condições específicas.\n",
    "\n",
    "Corrosividade: Resíduos corrosivos podem danificar materiais e infraestrutura, bem como causar lesões à saúde humana.\n",
    "\n",
    "Biodegradabilidade: A capacidade do resíduo de se decompor naturalmente e ser absorvido pelo meio ambiente pode ser um critério para determinar se é considerado perigoso.\n",
    "\n",
    "Persistência: Alguns resíduos podem permanecer no meio ambiente por um longo período de tempo, o que pode aumentar seu potencial de acumulação e impacto ambiental.\n",
    "\n",
    "Solubilidade: A solubilidade do resíduo em água pode influenciar sua capacidade de se espalhar e contaminar recursos hídricos.\n",
    "\n",
    "Efeitos sobre a saúde humana e o meio ambiente: As agências reguladoras avaliam os impactos potenciais do resíduo na saúde das pessoas, em ecossistemas e na vida selvagem.\n",
    "\n",
    "Normas e Regulamentações: As agências reguladoras baseiam suas avaliações em regulamentos e normas específicos relacionados a resíduos perigosos. Esses regulamentos podem variar de acordo com o país ou região.\n",
    "\n",
    "Classificação de Resíduos: Muitas vezes, os resíduos são classificados em categorias com base em critérios específicos. Essa classificação pode determinar se um resíduo é considerado perigoso ou não.\n",
    "\n",
    "Porém não é algo que seja fixado, eles são atualizado conforme o que for demandado. \n"
   ]
  },
  {
   "cell_type": "markdown",
   "id": "5ce2bb14",
   "metadata": {
    "scrolled": true
   },
   "source": [
    "#### 4. Verificando as maiores e onde há a maior concentração de barragens por UF\n",
    "Utilizando o PandaSQL para me auxiliar com as querys e o Matplolib para colocar os gráficos\n",
    "\n",
    "Em minha analise identifiquei que MG é o estado que possui maior concentração de barragens, tendo 38,7% do total.\n",
    "\n",
    "E fui atrás para entender porque há tantas barragens concentradas em Minas Gerais.\n",
    "\n",
    "Recursos Naturais: Minas Gerais é um estado brasileiro com abundância de recursos naturais, incluindo minerais e água. Devido à presença de recursos minerais, a mineração é uma atividade econômica importante na região, o que pode resultar na construção de muitas barragens para armazenar rejeitos de mineração, água e resíduos.\n",
    "\n",
    "Mineração: A mineração é uma das principais atividades econômicas em Minas Gerais. A extração de minerais, como minério de ferro, ouro, nióbio e outros, muitas vezes requer a construção de barragens para conter rejeitos de mineração e água utilizada no processo.\n",
    "\n",
    "Abastecimento de Água: Devido à sua grande extensão territorial e variações climáticas, a gestão de recursos hídricos é fundamental em Minas Gerais. Barragens são frequentemente construídas para armazenar água para abastecimento humano, irrigação agrícola e geração de energia hidrelétrica.\n",
    "\n",
    "Geração de Energia: O estado abriga usinas hidrelétricas importantes que geram energia a partir do fluxo de água em rios. Isso resulta na construção de barragens para represar água e criar quedas d'água controladas para acionar turbinas e gerar eletricidade.\n",
    "\n",
    "Geografia e Hidrografia: A geografia de Minas Gerais é marcada por vales e rios, o que pode favorecer a construção de barragens para diversos fins, como irrigação, abastecimento e contenção de cheias.\n",
    "\n",
    "Urbanização e Infraestrutura: O crescimento urbano e a expansão da infraestrutura podem exigir o gerenciamento das águas pluviais, prevenção de enchentes e tratamento de resíduos líquidos. Barragens de contenção e tratamento podem ser necessárias para enfrentar esses desafios.\n",
    "\n",
    "É importante destacar que a construção e o gerenciamento de barragens também podem ser acompanhados de desafios ambientais, sociais e de segurança. As razões acima são fatores gerais que podem contribuir para o grande número de barragens em Minas Gerais, mas cada barragem pode ter uma história e propósito específicos.\n"
   ]
  },
  {
   "cell_type": "code",
   "execution_count": 85,
   "id": "4bed909d",
   "metadata": {},
   "outputs": [
    {
     "data": {
      "text/html": [
       "<div>\n",
       "<style scoped>\n",
       "    .dataframe tbody tr th:only-of-type {\n",
       "        vertical-align: middle;\n",
       "    }\n",
       "\n",
       "    .dataframe tbody tr th {\n",
       "        vertical-align: top;\n",
       "    }\n",
       "\n",
       "    .dataframe thead th {\n",
       "        text-align: right;\n",
       "    }\n",
       "</style>\n",
       "<table border=\"1\" class=\"dataframe\">\n",
       "  <thead>\n",
       "    <tr style=\"text-align: right;\">\n",
       "      <th></th>\n",
       "      <th>NOME_BARRAGEM_MINERACAO</th>\n",
       "      <th>ALTURA_ATUAL_metros</th>\n",
       "      <th>VOLUME_ATUAL_m3</th>\n",
       "      <th>UF</th>\n",
       "    </tr>\n",
       "  </thead>\n",
       "  <tbody>\n",
       "    <tr>\n",
       "      <th>0</th>\n",
       "      <td>Barragem de Germano</td>\n",
       "      <td>163.00</td>\n",
       "      <td>129590000.0</td>\n",
       "      <td>MG</td>\n",
       "    </tr>\n",
       "    <tr>\n",
       "      <th>1</th>\n",
       "      <td>Barragem Santo Antônio</td>\n",
       "      <td>104.00</td>\n",
       "      <td>399058945.0</td>\n",
       "      <td>MG</td>\n",
       "    </tr>\n",
       "    <tr>\n",
       "      <th>2</th>\n",
       "      <td>Forquilha IV</td>\n",
       "      <td>100.00</td>\n",
       "      <td>4108399.6</td>\n",
       "      <td>MG</td>\n",
       "    </tr>\n",
       "    <tr>\n",
       "      <th>3</th>\n",
       "      <td>Campo Grande</td>\n",
       "      <td>99.30</td>\n",
       "      <td>22978889.0</td>\n",
       "      <td>MG</td>\n",
       "    </tr>\n",
       "    <tr>\n",
       "      <th>4</th>\n",
       "      <td>Forquilha I</td>\n",
       "      <td>98.28</td>\n",
       "      <td>12042671.0</td>\n",
       "      <td>MG</td>\n",
       "    </tr>\n",
       "    <tr>\n",
       "      <th>5</th>\n",
       "      <td>Maravilhas II</td>\n",
       "      <td>97.92</td>\n",
       "      <td>91925622.0</td>\n",
       "      <td>MG</td>\n",
       "    </tr>\n",
       "    <tr>\n",
       "      <th>6</th>\n",
       "      <td>Forquilha II</td>\n",
       "      <td>95.76</td>\n",
       "      <td>20862740.0</td>\n",
       "      <td>MG</td>\n",
       "    </tr>\n",
       "    <tr>\n",
       "      <th>7</th>\n",
       "      <td>Barragem Eustáquio</td>\n",
       "      <td>94.00</td>\n",
       "      <td>148349348.0</td>\n",
       "      <td>MG</td>\n",
       "    </tr>\n",
       "    <tr>\n",
       "      <th>8</th>\n",
       "      <td>Barragem BL-1</td>\n",
       "      <td>91.00</td>\n",
       "      <td>170000000.0</td>\n",
       "      <td>MG</td>\n",
       "    </tr>\n",
       "    <tr>\n",
       "      <th>9</th>\n",
       "      <td>CONTENÇÃO DE REJEITOS DE CUIABÁ</td>\n",
       "      <td>90.00</td>\n",
       "      <td>7429355.0</td>\n",
       "      <td>MG</td>\n",
       "    </tr>\n",
       "  </tbody>\n",
       "</table>\n",
       "</div>"
      ],
      "text/plain": [
       "           NOME_BARRAGEM_MINERACAO  ALTURA_ATUAL_metros  VOLUME_ATUAL_m3  UF\n",
       "0              Barragem de Germano               163.00      129590000.0  MG\n",
       "1           Barragem Santo Antônio               104.00      399058945.0  MG\n",
       "2                     Forquilha IV               100.00        4108399.6  MG\n",
       "3                     Campo Grande                99.30       22978889.0  MG\n",
       "4                      Forquilha I                98.28       12042671.0  MG\n",
       "5                    Maravilhas II                97.92       91925622.0  MG\n",
       "6                     Forquilha II                95.76       20862740.0  MG\n",
       "7               Barragem Eustáquio                94.00      148349348.0  MG\n",
       "8                    Barragem BL-1                91.00      170000000.0  MG\n",
       "9  CONTENÇÃO DE REJEITOS DE CUIABÁ                90.00        7429355.0  MG"
      ]
     },
     "execution_count": 85,
     "metadata": {},
     "output_type": "execute_result"
    }
   ],
   "source": [
    "query = '''SELECT NOME_BARRAGEM_MINERACAO, ALTURA_ATUAL_metros, VOLUME_ATUAL_m3, UF\n",
    "FROM df\n",
    "ORDER BY ALTURA_ATUAL_metros DESC\n",
    "LIMIT 10 '''\n",
    "\n",
    "df_maiores = ps.sqldf(query,locals())\n",
    "df_maiores"
   ]
  },
  {
   "cell_type": "code",
   "execution_count": 156,
   "id": "2bb28bf8",
   "metadata": {
    "scrolled": true
   },
   "outputs": [
    {
     "data": {
      "text/plain": [
       "<Figure size 1000x600 with 0 Axes>"
      ]
     },
     "execution_count": 156,
     "metadata": {},
     "output_type": "execute_result"
    },
    {
     "data": {
      "text/plain": [
       "<BarContainer object of 10 artists>"
      ]
     },
     "execution_count": 156,
     "metadata": {},
     "output_type": "execute_result"
    },
    {
     "data": {
      "text/plain": [
       "Text(0.5, 0, 'Altura em metros')"
      ]
     },
     "execution_count": 156,
     "metadata": {},
     "output_type": "execute_result"
    },
    {
     "data": {
      "text/plain": [
       "Text(0.5, 1.0, '10 maiores barragens')"
      ]
     },
     "execution_count": 156,
     "metadata": {},
     "output_type": "execute_result"
    },
    {
     "data": {
      "text/plain": [
       "(array([  0.,  20.,  40.,  60.,  80., 100., 120., 140., 160., 180.]),\n",
       " [Text(0.0, 0, '0'),\n",
       "  Text(20.0, 0, '20'),\n",
       "  Text(40.0, 0, '40'),\n",
       "  Text(60.0, 0, '60'),\n",
       "  Text(80.0, 0, '80'),\n",
       "  Text(100.0, 0, '100'),\n",
       "  Text(120.0, 0, '120'),\n",
       "  Text(140.0, 0, '140'),\n",
       "  Text(160.0, 0, '160'),\n",
       "  Text(180.0, 0, '180')])"
      ]
     },
     "execution_count": 156,
     "metadata": {},
     "output_type": "execute_result"
    },
    {
     "data": {
      "image/png": "[encoded data removed]",
      "text/plain": [
       "<Figure size 1000x600 with 1 Axes>"
      ]
     },
     "metadata": {},
     "output_type": "display_data"
    }
   ],
   "source": [
    "barragens = df_maiores['NOME_BARRAGEM_MINERACAO']\n",
    "alt = df_maiores['ALTURA_ATUAL_metros']\n",
    "vol = df_maiores['VOLUME_ATUAL_m3']\n",
    "\n",
    "plt.figure(figsize=(10,6))\n",
    "plt.barh(barragens, alt, color='lightblue')\n",
    "plt.xlabel('Altura em metros')\n",
    "plt.title('10 maiores barragens')\n",
    "plt.xticks(rotation=45, ha='right')\n",
    "plt.tight_layout()\n",
    "plt.savefig('Maiores.png')"
   ]
  },
  {
   "cell_type": "code",
   "execution_count": 153,
   "id": "fcabcd40",
   "metadata": {},
   "outputs": [
    {
     "data": {
      "text/html": [
       "<div>\n",
       "<style scoped>\n",
       "    .dataframe tbody tr th:only-of-type {\n",
       "        vertical-align: middle;\n",
       "    }\n",
       "\n",
       "    .dataframe tbody tr th {\n",
       "        vertical-align: top;\n",
       "    }\n",
       "\n",
       "    .dataframe thead th {\n",
       "        text-align: right;\n",
       "    }\n",
       "</style>\n",
       "<table border=\"1\" class=\"dataframe\">\n",
       "  <thead>\n",
       "    <tr style=\"text-align: right;\">\n",
       "      <th></th>\n",
       "      <th>UF</th>\n",
       "      <th>total_barragens</th>\n",
       "    </tr>\n",
       "  </thead>\n",
       "  <tbody>\n",
       "    <tr>\n",
       "      <th>0</th>\n",
       "      <td>ES</td>\n",
       "      <td>1</td>\n",
       "    </tr>\n",
       "    <tr>\n",
       "      <th>1</th>\n",
       "      <td>PB</td>\n",
       "      <td>1</td>\n",
       "    </tr>\n",
       "    <tr>\n",
       "      <th>2</th>\n",
       "      <td>PI</td>\n",
       "      <td>2</td>\n",
       "    </tr>\n",
       "    <tr>\n",
       "      <th>3</th>\n",
       "      <td>MA</td>\n",
       "      <td>3</td>\n",
       "    </tr>\n",
       "    <tr>\n",
       "      <th>4</th>\n",
       "      <td>PR</td>\n",
       "      <td>3</td>\n",
       "    </tr>\n",
       "    <tr>\n",
       "      <th>5</th>\n",
       "      <td>RJ</td>\n",
       "      <td>3</td>\n",
       "    </tr>\n",
       "    <tr>\n",
       "      <th>6</th>\n",
       "      <td>SE</td>\n",
       "      <td>3</td>\n",
       "    </tr>\n",
       "    <tr>\n",
       "      <th>7</th>\n",
       "      <td>RS</td>\n",
       "      <td>5</td>\n",
       "    </tr>\n",
       "    <tr>\n",
       "      <th>8</th>\n",
       "      <td>TO</td>\n",
       "      <td>6</td>\n",
       "    </tr>\n",
       "    <tr>\n",
       "      <th>9</th>\n",
       "      <td>SC</td>\n",
       "      <td>11</td>\n",
       "    </tr>\n",
       "    <tr>\n",
       "      <th>10</th>\n",
       "      <td>AP</td>\n",
       "      <td>12</td>\n",
       "    </tr>\n",
       "    <tr>\n",
       "      <th>11</th>\n",
       "      <td>GO</td>\n",
       "      <td>12</td>\n",
       "    </tr>\n",
       "    <tr>\n",
       "      <th>12</th>\n",
       "      <td>AM</td>\n",
       "      <td>15</td>\n",
       "    </tr>\n",
       "    <tr>\n",
       "      <th>13</th>\n",
       "      <td>MS</td>\n",
       "      <td>19</td>\n",
       "    </tr>\n",
       "    <tr>\n",
       "      <th>14</th>\n",
       "      <td>RO</td>\n",
       "      <td>22</td>\n",
       "    </tr>\n",
       "    <tr>\n",
       "      <th>15</th>\n",
       "      <td>BA</td>\n",
       "      <td>46</td>\n",
       "    </tr>\n",
       "    <tr>\n",
       "      <th>16</th>\n",
       "      <td>MT</td>\n",
       "      <td>62</td>\n",
       "    </tr>\n",
       "    <tr>\n",
       "      <th>17</th>\n",
       "      <td>SP</td>\n",
       "      <td>66</td>\n",
       "    </tr>\n",
       "    <tr>\n",
       "      <th>18</th>\n",
       "      <td>PA</td>\n",
       "      <td>98</td>\n",
       "    </tr>\n",
       "    <tr>\n",
       "      <th>19</th>\n",
       "      <td>MG</td>\n",
       "      <td>324</td>\n",
       "    </tr>\n",
       "  </tbody>\n",
       "</table>\n",
       "</div>"
      ],
      "text/plain": [
       "    UF  total_barragens\n",
       "0   ES                1\n",
       "1   PB                1\n",
       "2   PI                2\n",
       "3   MA                3\n",
       "4   PR                3\n",
       "5   RJ                3\n",
       "6   SE                3\n",
       "7   RS                5\n",
       "8   TO                6\n",
       "9   SC               11\n",
       "10  AP               12\n",
       "11  GO               12\n",
       "12  AM               15\n",
       "13  MS               19\n",
       "14  RO               22\n",
       "15  BA               46\n",
       "16  MT               62\n",
       "17  SP               66\n",
       "18  PA               98\n",
       "19  MG              324"
      ]
     },
     "execution_count": 153,
     "metadata": {},
     "output_type": "execute_result"
    }
   ],
   "source": [
    "query = '''SELECT UF , count (*) as total_barragens\n",
    "FROM df\n",
    "GROUP BY UF\n",
    "ORDER BY total_barragens'''\n",
    "\n",
    "dis_bar = ps.sqldf(query,locals())\n",
    "dis_bar"
   ]
  },
  {
   "cell_type": "code",
   "execution_count": 157,
   "id": "fac5b792",
   "metadata": {
    "scrolled": true
   },
   "outputs": [
    {
     "data": {
      "text/plain": [
       "<Figure size 1000x600 with 0 Axes>"
      ]
     },
     "execution_count": 157,
     "metadata": {},
     "output_type": "execute_result"
    },
    {
     "data": {
      "text/plain": [
       "[<matplotlib.lines.Line2D at 0x19500517d30>]"
      ]
     },
     "execution_count": 157,
     "metadata": {},
     "output_type": "execute_result"
    },
    {
     "data": {
      "text/plain": [
       "Text(0.5, 0, 'UF')"
      ]
     },
     "execution_count": 157,
     "metadata": {},
     "output_type": "execute_result"
    },
    {
     "data": {
      "text/plain": [
       "Text(0, 0.5, 'Total')"
      ]
     },
     "execution_count": 157,
     "metadata": {},
     "output_type": "execute_result"
    },
    {
     "data": {
      "text/plain": [
       "Text(0.5, 1.0, 'Concentração de barragens por UF')"
      ]
     },
     "execution_count": 157,
     "metadata": {},
     "output_type": "execute_result"
    },
    {
     "data": {
      "text/plain": [
       "([0, 1, 2, 3, 4, 5, 6, 7, 8, 9, 10, 11, 12, 13, 14, 15, 16, 17, 18, 19],\n",
       " [Text(0, 0, 'ES'),\n",
       "  Text(1, 0, 'PB'),\n",
       "  Text(2, 0, 'PI'),\n",
       "  Text(3, 0, 'MA'),\n",
       "  Text(4, 0, 'PR'),\n",
       "  Text(5, 0, 'RJ'),\n",
       "  Text(6, 0, 'SE'),\n",
       "  Text(7, 0, 'RS'),\n",
       "  Text(8, 0, 'TO'),\n",
       "  Text(9, 0, 'SC'),\n",
       "  Text(10, 0, 'AP'),\n",
       "  Text(11, 0, 'GO'),\n",
       "  Text(12, 0, 'AM'),\n",
       "  Text(13, 0, 'MS'),\n",
       "  Text(14, 0, 'RO'),\n",
       "  Text(15, 0, 'BA'),\n",
       "  Text(16, 0, 'MT'),\n",
       "  Text(17, 0, 'SP'),\n",
       "  Text(18, 0, 'PA'),\n",
       "  Text(19, 0, 'MG')])"
      ]
     },
     "execution_count": 157,
     "metadata": {},
     "output_type": "execute_result"
    },
    {
     "data": {
      "image/png": "[encoded data removed]",
      "text/plain": [
       "<Figure size 1000x600 with 1 Axes>"
      ]
     },
     "metadata": {},
     "output_type": "display_data"
    }
   ],
   "source": [
    "total = dis_bar['total_barragens']\n",
    "uf = dis_bar['UF']\n",
    "\n",
    "plt.figure(figsize=(10,6))\n",
    "plt.plot(uf, total, color='lightblue')\n",
    "plt.xlabel('UF')\n",
    "plt.ylabel('Total')\n",
    "plt.title('Concentração de barragens por UF')\n",
    "plt.xticks(rotation=45, ha='right')\n",
    "plt.tight_layout()\n",
    "plt.savefig('distribuicao.png')"
   ]
  }
 ],
 "metadata": {
  "kernelspec": {
   "display_name": "Python 3 (ipykernel)",
   "language": "python",
   "name": "python3"
  },
  "language_info": {
   "codemirror_mode": {
    "name": "ipython",
    "version": 3
   },
   "file_extension": ".py",
   "mimetype": "text/x-python",
   "name": "python",
   "nbconvert_exporter": "python",
   "pygments_lexer": "ipython3",
   "version": "3.10.9"
  }
 },
 "nbformat": 4,
 "nbformat_minor": 5
}
